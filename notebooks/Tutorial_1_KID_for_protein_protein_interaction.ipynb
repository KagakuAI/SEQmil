{
 "cells": [
  {
   "cell_type": "markdown",
   "id": "4a1c02ba-af7b-4f92-a7a6-1885537e776d",
   "metadata": {},
   "source": [
    "### Introduction\n",
    "\n",
    "### Synthetic Protein-Protein Interaction Dataset for Multi-Instance Learning (MIL) with Key Instance Detection (KID)\n",
    "\n",
    "Understanding protein-protein interactions (PPIs) is a central problem in biology, as these interactions drive most cellular processes. Experimentally characterizing all PPIs is costly and time-consuming, so **computational approaches** are increasingly used to predict and analyze interactions.\n",
    "\n",
    "### Why Synthetic Data?\n",
    "\n",
    "- Real PPI datasets can be limited, noisy, or biased.  \n",
    "- Synthetic datasets allow **controlled experiments**, where we know exactly which subsequences (motifs) are responsible for interactions.  \n",
    "- They are particularly useful for developing and benchmarking machine learning models.\n",
    "\n",
    "### Multi-Instance Learning (MIL)\n",
    "\n",
    "- In MIL, each data point is a **bag** containing multiple **instances**.  \n",
    "- A **bag is labeled positive** if it contains at least one \"key instance\" that triggers the label; otherwise, it is negative.  \n",
    "- Applied to PPIs:  \n",
    "  - Each bag = a pair of proteins.  \n",
    "  - Each instance = a pair of subsequences from the two proteins.  \n",
    "  - Positive bags contain subsequence pairs with specific **motifs** responsible for the interaction.  \n",
    "\n",
    "### Key Instance Detection (KID)\n",
    "\n",
    "- KID focuses on identifying **which instances in a positive bag are truly responsible** for the label.  \n",
    "- In PPI context: find the subsequence pairs (motifs) that drive the interaction.  \n",
    "- **KID accuracy** measures how well a model can detect these key instances, beyond just predicting the bag label.\n",
    "\n",
    "### Why This Setup is Useful\n",
    "\n",
    "- Enables **benchmarking MIL models** in a controlled setting.  \n",
    "- Provides **ground-truth key instances**, allowing detailed evaluation of model interpretability.  \n",
    "- Supports **feature engineering** (e.g., one-hot encoding of subsequences) and flexible model design.  \n",
    "\n",
    "With this setup, you can experiment with MIL algorithms, visualize motif contributions, and evaluate models both on bag-level predictions and key instance detection."
   ]
  },
  {
   "cell_type": "code",
   "execution_count": 1,
   "id": "e5f02c00-04cd-4c05-8e59-1e1d73f417a8",
   "metadata": {},
   "outputs": [],
   "source": [
    "import matplotlib.pyplot as plt\n",
    "import numpy as np\n",
    "\n",
    "def visualize_bag_predictions(bag, predictions, top_k=10):\n",
    "    \"\"\"\n",
    "    Visualize a single MIL bag with predicted instance weights.\n",
    "    \n",
    "    Parameters:\n",
    "    - bag: dict with keys:\n",
    "        'protein_1' (str), 'protein_2' (str),\n",
    "        'subseqs_1' (list of str), 'subseqs_2' (list of str),\n",
    "        'key_indices' (list of int),\n",
    "        'label' (int),\n",
    "        'motifs' (tuple of str) or None\n",
    "    - predictions: 1D np.array or list of predicted weights, same length as number of instances in bag.\n",
    "    - top_k: int, number of top subsequence pairs to display\n",
    "    \n",
    "    Displays:\n",
    "    - Proteins with highlighted motif occurrences (in blue).\n",
    "    - Table of top_k pairs sorted by predicted weight, indicating true key instances.\n",
    "    \"\"\"\n",
    "    \n",
    "    p1 = bag['protein_1']\n",
    "    p2 = bag['protein_2']\n",
    "    subseqs_1 = bag['subseqs_1']\n",
    "    subseqs_2 = bag['subseqs_2']\n",
    "    key_indices = set(bag['key_indices'])\n",
    "    label = bag['label']\n",
    "    motifs = bag.get('motifs', None)  # now a tuple or None\n",
    "    \n",
    "    motif1, motif2 = (motifs if motifs is not None else (None, None))\n",
    "    \n",
    "    # Lengths\n",
    "    n_subseqs_1 = len(subseqs_1)\n",
    "    n_subseqs_2 = len(subseqs_2)\n",
    "    \n",
    "    # Find motif occurrences (positions) in each protein\n",
    "    def find_motif_positions(protein, motif):\n",
    "        positions = []\n",
    "        if motif:\n",
    "            start = 0\n",
    "            while True:\n",
    "                idx = protein.find(motif, start)\n",
    "                if idx == -1:\n",
    "                    break\n",
    "                positions.extend(range(idx, idx + len(motif)))\n",
    "                start = idx + 1\n",
    "        return set(positions)\n",
    "    \n",
    "    motif_positions_1 = find_motif_positions(p1, motif1)\n",
    "    motif_positions_2 = find_motif_positions(p2, motif2)\n",
    "    \n",
    "    # Visualize proteins with highlights for motif positions\n",
    "    def highlight_protein(seq, motif_pos_set):\n",
    "        \"\"\"Return a list of tuples (char, highlight_bool)\"\"\"\n",
    "        highlight_mask = [i in motif_pos_set for i in range(len(seq))]\n",
    "        return [(c, h) for c, h in zip(seq, highlight_mask)]\n",
    "    \n",
    "    h_protein_1 = highlight_protein(p1, motif_positions_1)\n",
    "    h_protein_2 = highlight_protein(p2, motif_positions_2)\n",
    "    \n",
    "    fig, axs = plt.subplots(3, 1, figsize=(14, 8))\n",
    "    fig.suptitle(f\"Bag label: {label} - Key instances: {len(key_indices)}\", fontsize=16)\n",
    "    \n",
    "    def plot_highlighted_sequence(ax, highlighted_seq, title):\n",
    "        ax.set_title(title)\n",
    "        ax.axis('off')\n",
    "        for i, (char, highlight) in enumerate(highlighted_seq):\n",
    "            color = 'blue' if highlight else 'black'\n",
    "            bbox = dict(facecolor='lightblue', alpha=0.5) if highlight else None\n",
    "            ax.text(i, 0, char, color=color, fontsize=14, fontweight='bold' if highlight else 'normal', bbox=bbox)\n",
    "        ax.set_xlim(-1, len(highlighted_seq))\n",
    "        ax.set_ylim(-1, 1)\n",
    "    \n",
    "    plot_highlighted_sequence(axs[0], h_protein_1, f\"Protein 1 (motif: {motif1 if motif1 else 'None'})\")\n",
    "    plot_highlighted_sequence(axs[1], h_protein_2, f\"Protein 2 (motif: {motif2 if motif2 else 'None'})\")\n",
    "    \n",
    "    # Sort predicted weights descending and get top_k pairs\n",
    "    pred = np.array(predictions)\n",
    "    top_indices = np.argsort(pred)[::-1][:top_k]\n",
    "    \n",
    "    # Prepare pairs info for display\n",
    "    rows = []\n",
    "    for rank, idx in enumerate(top_indices, 1):\n",
    "        i = idx // n_subseqs_2\n",
    "        j = idx % n_subseqs_2\n",
    "        s1 = subseqs_1[i]\n",
    "        s2 = subseqs_2[j]\n",
    "        weight = pred[idx]\n",
    "        is_key = \"YES\" if idx in key_indices else \"NO\"\n",
    "        rows.append((rank, i, s1, j, s2, f\"{weight:.4f}\", is_key))\n",
    "    \n",
    "    # Display table below sequences\n",
    "    col_labels = [\"Rank\", \"Subseq idx P1\", \"Subseq P1\", \"Subseq idx P2\", \"Subseq P2\", \"Predicted weight\", \"Is Key Instance\"]\n",
    "    table_data = [[str(x) for x in row] for row in rows]\n",
    "    \n",
    "    axs[2].axis('off')\n",
    "    table = axs[2].table(cellText=table_data, colLabels=col_labels, loc='center', cellLoc='center')\n",
    "    table.auto_set_font_size(False)\n",
    "    table.set_fontsize(10)\n",
    "    table.scale(1, 1.5)\n",
    "    \n",
    "    plt.tight_layout(rect=[0, 0, 1, 0.95])\n",
    "    plt.show()"
   ]
  },
  {
   "cell_type": "code",
   "execution_count": 2,
   "id": "0a4e30d9-ed7a-4362-9025-2b658521027d",
   "metadata": {},
   "outputs": [],
   "source": [
    "import logging\n",
    "import warnings\n",
    "warnings.filterwarnings(\"ignore\")\n",
    "logging.getLogger(\"pytorch_lightning\").setLevel(logging.ERROR)\n",
    "logging.getLogger(\"lightning\").setLevel(logging.ERROR)\n",
    "\n",
    "import time\n",
    "import torch\n",
    "import random\n",
    "\n",
    "import numpy as np\n",
    "import pandas as pd\n",
    "\n",
    "import matplotlib.pyplot as plt\n",
    "\n",
    "# Preprocessing\n",
    "from milearn.preprocessing import BagMinMaxScaler\n",
    "\n",
    "# Network hparams\n",
    "from milearn.network.module.hopt import DEFAULT_PARAM_GRID\n",
    "\n",
    "# MIL wrappers\n",
    "from milearn.network.regressor import BagWrapperMLPNetworkRegressor, InstanceWrapperMLPNetworkRegressor\n",
    "from milearn.network.classifier import BagWrapperMLPNetworkClassifier, InstanceWrapperMLPNetworkClassifier\n",
    "\n",
    "# MIL networks\n",
    "from milearn.network.classifier import (InstanceNetworkClassifier,\n",
    "                                        BagNetworkClassifier,\n",
    "                                        AdditiveAttentionNetworkClassifier,\n",
    "                                        SelfAttentionNetworkClassifier,\n",
    "                                        HopfieldAttentionNetworkClassifier,\n",
    "                                        DynamicPoolingNetworkClassifier)\n",
    "\n",
    "# Utils\n",
    "from sklearn.metrics import r2_score, accuracy_score\n",
    "from scipy.stats import spearmanr\n",
    "from sklearn.model_selection import train_test_split\n",
    "\n",
    "# Data\n",
    "from seqmil.data import create_ppi_dataset\n",
    "from seqmil.featurizer import OneHotFeaturizer"
   ]
  },
  {
   "cell_type": "markdown",
   "id": "ab3c83f5-303e-4b42-b67d-f4327830cc02",
   "metadata": {},
   "source": [
    "### 1. Create synthetic PPI dataset\n",
    "\n",
    "This dataset simulates protein-protein interactions for **multi-instance learning (MIL)**, where each *bag* represents a protein pair with multiple subsequence pairs (instances). Some instances are **key instances** containing specific motifs that define positive interactions.\n",
    "\n",
    "### Dataset Overview\n",
    "\n",
    "Each **bag** corresponds to a pair of proteins (`protein_1` and `protein_2`).  \n",
    "\n",
    "- **Positive bags**: Contain specific motif pairs, i.e., `motif1` in `protein_1` and `motif2` in `protein_2`.  \n",
    "- **Negative bags**: Do **not** contain any of the specified motifs.  \n",
    "\n",
    "Each protein is split into overlapping subsequences using a sliding window. The **bag instances** are all possible pairs of subsequences between the two proteins.\n",
    "\n",
    "### Step-by-Step Dataset Creation\n",
    "\n",
    "**Parameter Setup**\n",
    "   - `n_bags`: Number of bags to generate  \n",
    "   - `pos_ratio`: Fraction of positive bags  \n",
    "   - `protein_length`: Length of synthetic protein sequences  \n",
    "   - `window_size` & `step_size`: Sliding window parameters for subsequences  \n",
    "   - `motif_pairs`: List of motif tuples used to generate positive bags\n",
    "\n",
    "**Protein Sequence Generation.**\n",
    "   - Each protein is randomly generated from 20 standard amino acids (`ACDEFGHIKLMNPQRSTVWY`).  \n",
    "\n",
    "**Motif Embedding (for positive bags)**\n",
    "   - A motif pair `(motif1, motif2)` is randomly selected  \n",
    "   - `motif1` is embedded in `protein_1` and `motif2` in `protein_2` at random positions  \n",
    "\n",
    "**Sliding Window Extraction**\n",
    "   - Each protein is split into overlapping subsequences of length `window_size`, moving by `step_size`  \n",
    "   - Example: For a protein of length 50, `window_size=10`, `step_size=3`, we get subsequences like `protein[0:10]`, `protein[3:13]`, `protein[6:16]`, etc.  \n",
    "\n",
    "**Bag Construction**\n",
    "   - Every subsequence of `protein_1` is paired with every subsequence of `protein_2`  \n",
    "   - These pairs form the **instances** of the bag  \n",
    "   - **Key instances** are those where both motifs are present in the corresponding subsequences  \n",
    "\n",
    "**Negative Bag Filtering**\n",
    "   - Negative bags are generated by random proteins that **do not contain any motifs** from `motif_pairs`  \n",
    "\n",
    "**Featurization (optional)**\n",
    "   - Subsequence pairs are converted to vectors using a featurizer, e.g., `OneHotFeaturizer`  \n",
    "   - Each subsequence is one-hot encoded and concatenated to represent the instance vector  "
   ]
  },
  {
   "cell_type": "code",
   "execution_count": 3,
   "id": "397eab5d-a247-4938-ac0b-74819aea3bca",
   "metadata": {
    "scrolled": true
   },
   "outputs": [],
   "source": [
    "motif_pairs = [\n",
    "    # (\"ALRMNDU\", \"APRQKVN\"), \n",
    "    (\"KLMNPQR\", \"STVWYAC\")]\n",
    "\n",
    "dataset = create_ppi_dataset(\n",
    "    motif_pairs=motif_pairs,\n",
    "    n_bags=1000,\n",
    "    pos_ratio=0.5,\n",
    "    protein_length=50,\n",
    "    window_size=10,\n",
    "    step_size=3,\n",
    "    seed=42)"
   ]
  },
  {
   "cell_type": "markdown",
   "id": "564f06de-2169-4a9c-8e3d-3b3d4c463f9e",
   "metadata": {},
   "source": [
    "### 2. Encode protein sequences \n",
    "\n",
    "After generating the raw dataset, each subsequence pair in a bag needs to be converted into a numerical vector for machine learning.  \n",
    "\n",
    "**Process:**\n",
    "\n",
    "**One-Hot Encoding**  \n",
    "   - Each amino acid in a subsequence is represented as a one-hot vector of length 20 (one for each standard amino acid).  \n",
    "   - Example: `'A'` → `[1,0,0,...,0]`, `'C'` → `[0,1,0,...,0]`.  \n",
    "\n",
    "**Subsequence Pair Encoding**  \n",
    "   - For each instance `(s1, s2)` in a bag, both subsequences are one-hot encoded separately.  \n",
    "   - The vectors are then concatenated to form a single vector representing the pair.  \n",
    "\n",
    "**Bag Representation**  \n",
    "   - All concatenated instance vectors in a bag are stacked into a NumPy array: `encoded_bag`.  \n",
    "   - This array can then be used as input for MIL models, while `key_indices` indicate the key instances in positive bags.  "
   ]
  },
  {
   "cell_type": "code",
   "execution_count": 4,
   "id": "e3962e85-6d19-4632-8d65-a701f4f2de6f",
   "metadata": {},
   "outputs": [],
   "source": [
    "featurizer = OneHotFeaturizer()\n",
    "\n",
    "for bag in dataset:\n",
    "    encoded_bag = []\n",
    "    for s1, s2 in bag[\"raw_bag\"]:\n",
    "        v1, v2 = featurizer.run([s1, s2])\n",
    "        pair_vec = np.concatenate([v1, v2])\n",
    "        encoded_bag.append(pair_vec)\n",
    "    bag[\"encoded_bag\"] = np.stack(encoded_bag)"
   ]
  },
  {
   "cell_type": "code",
   "execution_count": 5,
   "id": "23a53cc8-013c-4fce-a3bf-28def229249a",
   "metadata": {},
   "outputs": [
    {
     "data": {
      "text/plain": [
       "(196, 400)"
      ]
     },
     "execution_count": 5,
     "metadata": {},
     "output_type": "execute_result"
    }
   ],
   "source": [
    "dataset[0]['encoded_bag'].shape"
   ]
  },
  {
   "cell_type": "code",
   "execution_count": 6,
   "id": "a9788b8f-1de7-4443-a4b6-0d30247071a4",
   "metadata": {},
   "outputs": [
    {
     "data": {
      "text/plain": [
       "('KLMNPQR', 'STVWYAC')"
      ]
     },
     "execution_count": 6,
     "metadata": {},
     "output_type": "execute_result"
    }
   ],
   "source": [
    "dataset[0]['motifs']"
   ]
  },
  {
   "cell_type": "code",
   "execution_count": 7,
   "id": "4288da55-c2d8-4e02-927d-93ae24b00e95",
   "metadata": {},
   "outputs": [
    {
     "data": {
      "text/plain": [
       "'SHGEARRYSMDPTMEIEYWWNLDIYTFFNCKLMNPQREMPYWSQRIQIVL'"
      ]
     },
     "execution_count": 7,
     "metadata": {},
     "output_type": "execute_result"
    }
   ],
   "source": [
    "dataset[1]['protein_1']"
   ]
  },
  {
   "cell_type": "code",
   "execution_count": 8,
   "id": "0b0b4ed7-8292-4fbe-a5ce-f27f69c45172",
   "metadata": {},
   "outputs": [
    {
     "data": {
      "text/plain": [
       "'FCANNARCCAHMGSTVWYACKCQIKVCQPCRTDEMDELVCTVCQMACSFK'"
      ]
     },
     "execution_count": 8,
     "metadata": {},
     "output_type": "execute_result"
    }
   ],
   "source": [
    "dataset[1]['protein_2']"
   ]
  },
  {
   "cell_type": "code",
   "execution_count": 9,
   "id": "41bae9a2-acb3-41a9-8da1-24b55b8ac486",
   "metadata": {},
   "outputs": [
    {
     "data": {
      "text/plain": [
       "[130, 144]"
      ]
     },
     "execution_count": 9,
     "metadata": {},
     "output_type": "execute_result"
    }
   ],
   "source": [
    "dataset[1][\"key_indices\"]"
   ]
  },
  {
   "cell_type": "markdown",
   "id": "67d06bc6-f9cf-4a7c-833c-6032d5638ee0",
   "metadata": {},
   "source": [
    "### Key Instance Detection (KID) Accuracy\n",
    "\n",
    "In multi-instance learning, some instances in a bag are more important—they are the **key instances** that determine whether the bag is positive.  \n",
    "\n",
    "The KID accuracy measures **how well a model can identify these key instances** in positive bags.  \n",
    "\n",
    "- A bag is counted as correct if the model’s top predictions include at least one of the true key instances.  \n",
    "- The final KID accuracy is the fraction of positive bags where the key instance was successfully detected.  \n",
    "\n",
    "This metric focuses on whether the model can find the most important parts of a bag, rather than just predicting the bag’s overall label."
   ]
  },
  {
   "cell_type": "code",
   "execution_count": 10,
   "id": "bc8536c4-224d-47b2-8058-79d30b72dd82",
   "metadata": {},
   "outputs": [],
   "source": [
    "# ==== KID Accuracy Function ====\n",
    "def kid_accuracy(true_key_indices, predictions, labels, top_k=1):\n",
    "    assert len(predictions) == len(true_key_indices) == len(labels)\n",
    "\n",
    "    correct = 0\n",
    "    total = 0\n",
    "\n",
    "    for pred, true_keys, label in zip(predictions, true_key_indices, labels):\n",
    "        if label != 1:\n",
    "            continue\n",
    "        total += 1\n",
    "\n",
    "        if len(true_keys) == 0:\n",
    "            continue\n",
    "\n",
    "        top_pred_indices = np.argsort(pred)[-top_k:][::-1]  # ensure descending order\n",
    "        if any(idx in true_keys for idx in top_pred_indices):\n",
    "            correct += 1\n",
    "\n",
    "    return correct / total if total > 0 else 0.0"
   ]
  },
  {
   "cell_type": "markdown",
   "id": "a28cc663-80ef-4629-be79-26612251e293",
   "metadata": {},
   "source": [
    "### 3. Build model"
   ]
  },
  {
   "cell_type": "code",
   "execution_count": 11,
   "id": "408368f2-94e9-4220-8517-8158e650181d",
   "metadata": {},
   "outputs": [],
   "source": [
    "# Extract encoded bags, labels, key indices, and raw sequences\n",
    "raw_bags = [bag[\"raw_bag\"] for bag in dataset]\n",
    "encoded_bags = [bag[\"encoded_bag\"] for bag in dataset]\n",
    "labels = [bag[\"label\"] for bag in dataset]\n",
    "key_indices = [bag[\"key_indices\"] for bag in dataset]\n",
    "\n",
    "\n",
    "\n",
    "# Train/test split\n",
    "x_train, x_test, y_train, y_test, key_train, key_test, seq_train, seq_test = train_test_split(\n",
    "    encoded_bags, labels, key_indices, dataset,\n",
    "    test_size=0.2, random_state=42, stratify=labels\n",
    ")\n",
    "\n",
    "# Scaling (using BagMinMaxScaler or any bag-level scaler)\n",
    "scaler = BagMinMaxScaler()\n",
    "scaler.fit(x_train)\n",
    "x_train_scaled = scaler.transform(x_train)\n",
    "x_test_scaled = scaler.transform(x_test)"
   ]
  },
  {
   "cell_type": "code",
   "execution_count": 12,
   "id": "03caf00d-2437-4178-864c-1f1ea02d18ca",
   "metadata": {
    "scrolled": true
   },
   "outputs": [
    {
     "name": "stdout",
     "output_type": "stream",
     "text": [
      "Optimizing hyperparameter: hidden_layer_sizes (3 options)\n",
      "[1/28 |  3.6% |  5.3 min] Value: (2048, 1024, 512, 256, 128, 64), Epochs: 31, Loss: 0.0106\n",
      "[2/28 |  7.1% |  0.6 min] Value: (256, 128, 64), Epochs: 25, Loss: 0.0265\n",
      "[3/28 | 10.7% |  5.9 min] Value: (128,), Epochs: 572, Loss: 0.0173\n",
      "Best hidden_layer_sizes = (2048, 1024, 512, 256, 128, 64), val_loss = 0.0106\n",
      "Optimizing hyperparameter: activation (5 options)\n",
      "[4/28 | 14.3% |  8.7 min] Value: relu, Epochs: 23, Loss: 0.0099\n",
      "[5/28 | 17.9% |  8.7 min] Value: leakyrelu, Epochs: 25, Loss: 0.0092\n",
      "[6/28 | 21.4% | 10.1 min] Value: gelu, Epochs: 30, Loss: 0.0101\n",
      "[7/28 | 25.0% |  9.7 min] Value: elu, Epochs: 26, Loss: 0.0200\n",
      "[8/28 | 28.6% |  8.1 min] Value: silu, Epochs: 21, Loss: 0.0065\n",
      "Best activation = silu, val_loss = 0.0065\n",
      "Optimizing hyperparameter: learning_rate (2 options)\n",
      "[9/28 | 32.1% |  4.7 min] Value: 0.0001, Epochs: 25, Loss: 0.0237\n",
      "[10/28 | 35.7% |  5.2 min] Value: 0.001, Epochs: 29, Loss: 0.0174\n",
      "Best learning_rate = 0.001, val_loss = 0.0174\n",
      "Optimizing hyperparameter: batch_size (3 options)\n",
      "[11/28 | 39.3% |  6.7 min] Value: 32, Epochs: 18, Loss: 0.0218\n",
      "[12/28 | 42.9% |  8.2 min] Value: 512, Epochs: 37, Loss: 0.0048\n",
      "[13/28 | 46.4% | 11.9 min] Value: 1024, Epochs: 69, Loss: 0.0052\n",
      "Best batch_size = 512, val_loss = 0.0048\n",
      "Optimizing hyperparameter: weight_decay (5 options)\n",
      "[14/28 | 50.0% | 12.4 min] Value: 0.0, Epochs: 34, Loss: 0.0207\n",
      "[15/28 | 53.6% | 12.9 min] Value: 1e-05, Epochs: 35, Loss: 0.0069\n",
      "[16/28 | 57.1% | 13.1 min] Value: 0.0001, Epochs: 35, Loss: 0.0191\n",
      "[17/28 | 60.7% | 15.9 min] Value: 0.001, Epochs: 47, Loss: 0.0064\n",
      "[18/28 | 64.3% | 17.5 min] Value: 0.01, Epochs: 58, Loss: 0.0090\n",
      "Best weight_decay = 0.001, val_loss = 0.0064\n",
      "Optimizing hyperparameter: instance_dropout (5 options)\n",
      "[19/28 | 67.9% | 19.3 min] Value: 0.0, Epochs: 87, Loss: 0.0028\n",
      "[20/28 | 71.4% | 11.9 min] Value: 0.2, Epochs: 37, Loss: 0.0221\n",
      "[21/28 | 75.0% | 10.1 min] Value: 0.4, Epochs: 31, Loss: 0.0454\n",
      "[22/28 | 78.6% |  4.1 min] Value: 0.6, Epochs: 12, Loss: 0.2099\n",
      "[23/28 | 82.1% | 10.6 min] Value: 0.8, Epochs: 32, Loss: 0.1287\n",
      "Best instance_dropout = 0.0, val_loss = 0.0028\n",
      "Optimizing hyperparameter: random_seed (5 options)\n",
      "[24/28 | 85.7% | 11.1 min] Value: 1, Epochs: 31, Loss: 0.0092\n",
      "[25/28 | 89.3% | 12.0 min] Value: 2, Epochs: 35, Loss: 0.0123\n",
      "[26/28 | 92.9% | 11.8 min] Value: 3, Epochs: 34, Loss: 0.0127\n",
      "[27/28 | 96.4% |  9.5 min] Value: 4, Epochs: 26, Loss: 0.0159\n",
      "[28/28 | 100.0% |  9.8 min] Value: 5, Epochs: 28, Loss: 0.0115\n",
      "Best random_seed = 1, val_loss = 0.0092\n",
      "Stepwise optimization completed in 81.8 min\n",
      "\n"
     ]
    },
    {
     "data": {
      "text/plain": [
       "DynamicPoolingNetworkClassifier(\n",
       "  (instance_transformer): Sequential(\n",
       "    (0): Linear(in_features=400, out_features=2048, bias=True)\n",
       "    (1): SiLU()\n",
       "    (2): Linear(in_features=2048, out_features=1024, bias=True)\n",
       "    (3): SiLU()\n",
       "    (4): Linear(in_features=1024, out_features=512, bias=True)\n",
       "    (5): SiLU()\n",
       "    (6): Linear(in_features=512, out_features=256, bias=True)\n",
       "    (7): SiLU()\n",
       "    (8): Linear(in_features=256, out_features=128, bias=True)\n",
       "    (9): SiLU()\n",
       "    (10): Linear(in_features=128, out_features=64, bias=True)\n",
       "    (11): SiLU()\n",
       "  )\n",
       "  (bag_estimator): Norm()\n",
       "  (dynamic_pooling): DynamicPooling()\n",
       ")"
      ]
     },
     "execution_count": 12,
     "metadata": {},
     "output_type": "execute_result"
    }
   ],
   "source": [
    "model = DynamicPoolingNetworkClassifier()\n",
    "model.hopt(x_train_scaled, y_train, param_grid=DEFAULT_PARAM_GRID, verbose=True)\n",
    "model.fit(x_train_scaled, y_train)"
   ]
  },
  {
   "cell_type": "code",
   "execution_count": 13,
   "id": "fead5cc0-846e-4fcc-99ad-9c61c4af8ac6",
   "metadata": {},
   "outputs": [],
   "source": [
    "y_prob = model.predict(x_test_scaled)\n",
    "y_pred = np.where(y_prob > 0.5, 1, 0)\n",
    "\n",
    "w_pred = model.get_instance_weights(x_test_scaled)\n",
    "w_pred = [w.flatten() for w in w_pred]"
   ]
  },
  {
   "cell_type": "code",
   "execution_count": 14,
   "id": "9d343140-e14a-4f6d-84fa-7fcf6f8e9b47",
   "metadata": {},
   "outputs": [
    {
     "name": "stdout",
     "output_type": "stream",
     "text": [
      "Classification accuracy: 0.99\n",
      "KID accuracy: 0.99\n"
     ]
    }
   ],
   "source": [
    "print(f\"Classification accuracy: {accuracy_score(y_test, y_pred):.2f}\")\n",
    "print(f\"KID accuracy: {kid_accuracy(key_test, w_pred, y_test, top_k=1):.2f}\")"
   ]
  },
  {
   "cell_type": "code",
   "execution_count": 15,
   "id": "489ac508-6f81-4cba-af61-f6b6dd6cd552",
   "metadata": {},
   "outputs": [
    {
     "data": {
      "text/plain": [
       "array([  0,   2,   4,   5,   6,  12,  13,  14,  15,  20,  21,  23,  24,\n",
       "        25,  27,  28,  29,  30,  35,  38,  39,  40,  43,  44,  47,  52,\n",
       "        55,  59,  62,  65,  66,  67,  71,  72,  76,  77,  78,  79,  80,\n",
       "        83,  86,  87,  88,  89,  90,  96,  97,  98, 101, 102, 106, 109,\n",
       "       110, 111, 112, 114, 116, 117, 118, 120, 123, 124, 128, 133, 144,\n",
       "       145, 148, 149, 152, 153, 157, 158, 159, 161, 162, 165, 166, 167,\n",
       "       169, 170, 171, 177, 179, 180, 184, 185, 189, 190, 191, 192, 193,\n",
       "       194, 196, 197, 198])"
      ]
     },
     "execution_count": 15,
     "metadata": {},
     "output_type": "execute_result"
    }
   ],
   "source": [
    "# bags with correct positive class prediction (use these indexes for visualization)\n",
    "np.where((y_pred == 1) & (np.array(y_test) == 1))[0]"
   ]
  },
  {
   "cell_type": "code",
   "execution_count": 16,
   "id": "1d3872a1-10be-49b5-8673-ddd1fd474782",
   "metadata": {},
   "outputs": [
    {
     "data": {
      "image/png": "[encoded data removed]",
      "text/plain": [
       "<Figure size 1400x800 with 3 Axes>"
      ]
     },
     "metadata": {},
     "output_type": "display_data"
    }
   ],
   "source": [
    "N = 2\n",
    "visualize_bag_predictions(seq_test[N], w_pred[N], top_k=10)"
   ]
  },
  {
   "cell_type": "markdown",
   "id": "deb9a65b-1d30-4746-b99c-c0480486526c",
   "metadata": {},
   "source": [
    "### 4. Mini-benchmark"
   ]
  },
  {
   "cell_type": "code",
   "execution_count": 17,
   "id": "e5cf5d47-50d5-4fb0-a775-ee0c2c132f7f",
   "metadata": {},
   "outputs": [],
   "source": [
    "classifier_list = [\n",
    "    \n",
    "        # attention mil networks\n",
    "        (\"AdditiveAttentionNetworkClassifier\", AdditiveAttentionNetworkClassifier()),\n",
    "        (\"SelfAttentionNetworkClassifier\", SelfAttentionNetworkClassifier()),\n",
    "        (\"HopfieldAttentionNetworkClassifier\", HopfieldAttentionNetworkClassifier()),\n",
    "\n",
    "        # other mil networks\n",
    "        (\"DynamicPoolingNetworkClassifier\", DynamicPoolingNetworkClassifier()),\n",
    "    ]"
   ]
  },
  {
   "cell_type": "code",
   "execution_count": 18,
   "id": "fe494fa4-4eda-4444-ac2b-5f38bd4bef16",
   "metadata": {},
   "outputs": [
    {
     "name": "stdout",
     "output_type": "stream",
     "text": [
      "  [Model 1/4] Training model: 'AdditiveAttentionNetworkClassifier'\n",
      "Optimizing hyperparameter: hidden_layer_sizes (3 options)\n",
      "[1/31 |  3.2% |  2.7 min] Value: (2048, 1024, 512, 256, 128, 64), Epochs: 18, Loss: 0.1943\n",
      "[2/31 |  6.5% |  0.6 min] Value: (256, 128, 64), Epochs: 24, Loss: 0.0517\n",
      "[3/31 |  9.7% |  0.5 min] Value: (128,), Epochs: 26, Loss: 0.0910\n",
      "Best hidden_layer_sizes = (256, 128, 64), val_loss = 0.0517\n",
      "Optimizing hyperparameter: activation (5 options)\n",
      "[4/31 | 12.9% |  0.4 min] Value: relu, Epochs: 18, Loss: 0.0589\n",
      "[5/31 | 16.1% |  0.5 min] Value: leakyrelu, Epochs: 18, Loss: 0.0973\n",
      "[6/31 | 19.4% |  0.4 min] Value: gelu, Epochs: 19, Loss: 0.0692\n",
      "[7/31 | 22.6% |  0.4 min] Value: elu, Epochs: 18, Loss: 0.0998\n",
      "[8/31 | 25.8% |  0.5 min] Value: silu, Epochs: 21, Loss: 0.0447\n",
      "Best activation = silu, val_loss = 0.0447\n",
      "Optimizing hyperparameter: learning_rate (2 options)\n",
      "[9/31 | 29.0% |  0.6 min] Value: 0.0001, Epochs: 64, Loss: 0.0474\n",
      "[10/31 | 32.3% |  0.2 min] Value: 0.001, Epochs: 18, Loss: 0.0540\n",
      "Best learning_rate = 0.0001, val_loss = 0.0474\n",
      "Optimizing hyperparameter: batch_size (3 options)\n",
      "[11/31 | 35.5% |  0.7 min] Value: 32, Epochs: 31, Loss: 0.0459\n",
      "[12/31 | 38.7% |  1.9 min] Value: 512, Epochs: 124, Loss: 0.0460\n",
      "[13/31 | 41.9% |  2.8 min] Value: 1024, Epochs: 215, Loss: 0.0506\n",
      "Best batch_size = 32, val_loss = 0.0459\n",
      "Optimizing hyperparameter: weight_decay (5 options)\n",
      "[14/31 | 45.2% |  0.9 min] Value: 0.0, Epochs: 32, Loss: 0.0474\n",
      "[15/31 | 48.4% |  0.8 min] Value: 1e-05, Epochs: 30, Loss: 0.0446\n",
      "[16/31 | 51.6% |  0.9 min] Value: 0.0001, Epochs: 30, Loss: 0.0468\n",
      "[17/31 | 54.8% |  0.8 min] Value: 0.001, Epochs: 30, Loss: 0.0454\n",
      "[18/31 | 58.1% |  0.8 min] Value: 0.01, Epochs: 30, Loss: 0.0473\n",
      "Best weight_decay = 1e-05, val_loss = 0.0446\n",
      "Optimizing hyperparameter: tau (3 options)\n",
      "[19/31 | 61.3% |  1.5 min] Value: 0.01, Epochs: 37, Loss: 0.3290\n",
      "[20/31 | 64.5% |  0.5 min] Value: 0.5, Epochs: 26, Loss: 0.0835\n",
      "[21/31 | 67.7% |  0.6 min] Value: 1.0, Epochs: 31, Loss: 0.0462\n",
      "Best tau = 1.0, val_loss = 0.0462\n",
      "Optimizing hyperparameter: instance_dropout (5 options)\n",
      "[22/31 | 71.0% |  0.9 min] Value: 0.0, Epochs: 32, Loss: 0.0457\n",
      "[23/31 | 74.2% |  0.8 min] Value: 0.2, Epochs: 24, Loss: 0.1093\n",
      "[24/31 | 77.4% |  0.8 min] Value: 0.4, Epochs: 25, Loss: 0.1523\n",
      "[25/31 | 80.6% |  0.8 min] Value: 0.6, Epochs: 24, Loss: 0.1696\n",
      "[26/31 | 83.9% |  0.8 min] Value: 0.8, Epochs: 24, Loss: 0.2123\n",
      "Best instance_dropout = 0.0, val_loss = 0.0457\n",
      "Optimizing hyperparameter: random_seed (5 options)\n",
      "[27/31 | 87.1% |  0.7 min] Value: 1, Epochs: 25, Loss: 0.0948\n",
      "[28/31 | 90.3% |  0.8 min] Value: 2, Epochs: 29, Loss: 0.0644\n",
      "[29/31 | 93.5% |  0.8 min] Value: 3, Epochs: 30, Loss: 0.0506\n",
      "[30/31 | 96.8% |  0.9 min] Value: 4, Epochs: 35, Loss: 0.0478\n",
      "[31/31 | 100.0% |  0.8 min] Value: 5, Epochs: 31, Loss: 0.0334\n",
      "Best random_seed = 5, val_loss = 0.0334\n",
      "Stepwise optimization completed in 10.8 min\n",
      "\n",
      "  [Model 2/4] Training model: 'SelfAttentionNetworkClassifier'\n",
      "Optimizing hyperparameter: hidden_layer_sizes (3 options)\n",
      "[1/31 |  3.2% |  3.6 min] Value: (2048, 1024, 512, 256, 128, 64), Epochs: 23, Loss: 0.0687\n",
      "[2/31 |  6.5% |  0.5 min] Value: (256, 128, 64), Epochs: 23, Loss: 0.2894\n",
      "[3/31 |  9.7% |  0.6 min] Value: (128,), Epochs: 35, Loss: 0.0446\n",
      "Best hidden_layer_sizes = (128,), val_loss = 0.0446\n",
      "Optimizing hyperparameter: activation (5 options)\n",
      "[4/31 | 12.9% |  0.7 min] Value: relu, Epochs: 25, Loss: 0.0291\n",
      "[5/31 | 16.1% |  0.8 min] Value: leakyrelu, Epochs: 27, Loss: 0.0367\n",
      "[6/31 | 19.4% |  0.8 min] Value: gelu, Epochs: 28, Loss: 0.0449\n",
      "[7/31 | 22.6% |  0.8 min] Value: elu, Epochs: 26, Loss: 0.0537\n",
      "[8/31 | 25.8% |  0.9 min] Value: silu, Epochs: 38, Loss: 0.0455\n",
      "Best activation = relu, val_loss = 0.0291\n",
      "Optimizing hyperparameter: learning_rate (2 options)\n",
      "[9/31 | 29.0% |  1.5 min] Value: 0.0001, Epochs: 120, Loss: 0.0395\n",
      "[10/31 | 32.3% |  0.3 min] Value: 0.001, Epochs: 23, Loss: 0.0348\n",
      "Best learning_rate = 0.001, val_loss = 0.0348\n",
      "Optimizing hyperparameter: batch_size (3 options)\n",
      "[11/31 | 35.5% |  0.4 min] Value: 32, Epochs: 16, Loss: 0.0423\n",
      "[12/31 | 38.7% |  0.7 min] Value: 512, Epochs: 39, Loss: 0.0316\n",
      "[13/31 | 41.9% |  1.2 min] Value: 1024, Epochs: 78, Loss: 0.0268\n",
      "Best batch_size = 1024, val_loss = 0.0268\n",
      "Optimizing hyperparameter: weight_decay (5 options)\n",
      "[14/31 | 45.2% |  2.9 min] Value: 0.0, Epochs: 78, Loss: 0.0268\n",
      "[15/31 | 48.4% |  2.9 min] Value: 1e-05, Epochs: 78, Loss: 0.0268\n",
      "[16/31 | 51.6% |  2.9 min] Value: 0.0001, Epochs: 78, Loss: 0.0268\n",
      "[17/31 | 54.8% |  2.9 min] Value: 0.001, Epochs: 78, Loss: 0.0268\n",
      "[18/31 | 58.1% |  2.7 min] Value: 0.01, Epochs: 78, Loss: 0.0268\n",
      "Best weight_decay = 1e-05, val_loss = 0.0268\n",
      "Optimizing hyperparameter: tau (3 options)\n",
      "[19/31 | 61.3% |  1.8 min] Value: 0.01, Epochs: 42, Loss: 0.1145\n",
      "[20/31 | 64.5% |  1.2 min] Value: 0.5, Epochs: 50, Loss: 0.0460\n",
      "[21/31 | 67.7% |  1.7 min] Value: 1.0, Epochs: 78, Loss: 0.0268\n",
      "Best tau = 1.0, val_loss = 0.0268\n",
      "Optimizing hyperparameter: instance_dropout (5 options)\n",
      "[22/31 | 71.0% |  2.0 min] Value: 0.0, Epochs: 78, Loss: 0.0268\n",
      "[23/31 | 74.2% |  1.6 min] Value: 0.2, Epochs: 45, Loss: 0.2330\n",
      "[24/31 | 77.4% |  1.4 min] Value: 0.4, Epochs: 35, Loss: 0.4468\n",
      "[25/31 | 80.6% |  1.4 min] Value: 0.6, Epochs: 34, Loss: 1.0461\n",
      "[26/31 | 83.9% |  1.3 min] Value: 0.8, Epochs: 32, Loss: 1.4193\n",
      "Best instance_dropout = 0.0, val_loss = 0.0268\n",
      "Optimizing hyperparameter: random_seed (5 options)\n",
      "[27/31 | 87.1% |  2.2 min] Value: 1, Epochs: 54, Loss: 0.0805\n",
      "[28/31 | 90.3% |  2.6 min] Value: 2, Epochs: 64, Loss: 0.0450\n",
      "[29/31 | 93.5% |  2.6 min] Value: 3, Epochs: 64, Loss: 0.0529\n",
      "[30/31 | 96.8% |  2.5 min] Value: 4, Epochs: 61, Loss: 0.0491\n",
      "[31/31 | 100.0% |  2.5 min] Value: 5, Epochs: 57, Loss: 0.0647\n",
      "Best random_seed = 2, val_loss = 0.0450\n",
      "Stepwise optimization completed in 16.5 min\n",
      "\n",
      "  [Model 3/4] Training model: 'HopfieldAttentionNetworkClassifier'\n",
      "Optimizing hyperparameter: hidden_layer_sizes (3 options)\n",
      "[1/31 |  3.2% | 10.0 min] Value: (2048, 1024, 512, 256, 128, 64), Epochs: 14, Loss: 0.2356\n",
      "[2/31 |  6.5% |  0.3 min] Value: (256, 128, 64), Epochs: 15, Loss: 0.2578\n",
      "[3/31 |  9.7% |  0.3 min] Value: (128,), Epochs: 21, Loss: 0.2813\n",
      "Best hidden_layer_sizes = (2048, 1024, 512, 256, 128, 64), val_loss = 0.2356\n",
      "Optimizing hyperparameter: activation (5 options)\n",
      "[4/31 | 12.9% | 11.4 min] Value: relu, Epochs: 18, Loss: 0.2310\n",
      "[5/31 | 16.1% | 18.2 min] Value: leakyrelu, Epochs: 17, Loss: 0.1552\n",
      "[6/31 | 19.4% | 21.5 min] Value: gelu, Epochs: 17, Loss: 0.3095\n",
      "[7/31 | 22.6% | 19.3 min] Value: elu, Epochs: 14, Loss: 0.5232\n",
      "[8/31 | 25.8% | 15.0 min] Value: silu, Epochs: 16, Loss: 0.8398\n",
      "Best activation = leakyrelu, val_loss = 0.1552\n",
      "Optimizing hyperparameter: learning_rate (2 options)\n",
      "[9/31 | 29.0% |  2.6 min] Value: 0.0001, Epochs: 16, Loss: 0.2973\n",
      "[10/31 | 32.3% |  2.7 min] Value: 0.001, Epochs: 17, Loss: 0.2347\n",
      "Best learning_rate = 0.001, val_loss = 0.2347\n",
      "Optimizing hyperparameter: batch_size (3 options)\n",
      "[11/31 | 35.5% | 10.9 min] Value: 32, Epochs: 12, Loss: 0.6656\n",
      "[12/31 | 38.7% |  4.2 min] Value: 512, Epochs: 20, Loss: 0.4284\n",
      "[13/31 | 41.9% |  6.0 min] Value: 1024, Epochs: 24, Loss: 0.2635\n",
      "Best batch_size = 1024, val_loss = 0.2635\n",
      "Optimizing hyperparameter: weight_decay (5 options)\n",
      "[14/31 | 45.2% |  9.2 min] Value: 0.0, Epochs: 27, Loss: 0.2994\n",
      "[15/31 | 48.4% | 15.9 min] Value: 1e-05, Epochs: 36, Loss: 0.1712\n",
      "[16/31 | 51.6% |  9.8 min] Value: 0.0001, Epochs: 26, Loss: 0.3327\n",
      "[17/31 | 54.8% |  9.7 min] Value: 0.001, Epochs: 26, Loss: 0.2146\n",
      "[18/31 | 58.1% | 14.7 min] Value: 0.01, Epochs: 34, Loss: 0.2969\n",
      "Best weight_decay = 1e-05, val_loss = 0.1712\n",
      "Optimizing hyperparameter: tau (3 options)\n",
      "[19/31 | 61.3% | 12.3 min] Value: 0.01, Epochs: 68, Loss: 0.7272\n",
      "[20/31 | 64.5% |  8.0 min] Value: 0.5, Epochs: 39, Loss: 0.1785\n",
      "[21/31 | 67.7% |  6.5 min] Value: 1.0, Epochs: 24, Loss: 0.2647\n",
      "Best tau = 0.5, val_loss = 0.1785\n",
      "Optimizing hyperparameter: instance_dropout (5 options)\n",
      "[22/31 | 71.0% | 10.8 min] Value: 0.0, Epochs: 28, Loss: 0.2680\n",
      "[23/31 | 74.2% | 11.2 min] Value: 0.2, Epochs: 29, Loss: 0.1983\n",
      "[24/31 | 77.4% | 13.9 min] Value: 0.4, Epochs: 39, Loss: 0.1431\n",
      "[25/31 | 80.6% | 14.8 min] Value: 0.6, Epochs: 44, Loss: 0.3805\n",
      "[26/31 | 83.9% | 11.8 min] Value: 0.8, Epochs: 30, Loss: 0.3975\n",
      "Best instance_dropout = 0.4, val_loss = 0.1431\n",
      "Optimizing hyperparameter: random_seed (5 options)\n",
      "[27/31 | 87.1% | 11.3 min] Value: 1, Epochs: 38, Loss: 0.1815\n",
      "[28/31 | 90.3% |  9.2 min] Value: 2, Epochs: 26, Loss: 0.2546\n",
      "[29/31 | 93.5% | 10.4 min] Value: 3, Epochs: 31, Loss: 0.3971\n",
      "[30/31 | 96.8% |  9.3 min] Value: 4, Epochs: 26, Loss: 0.2331\n",
      "[31/31 | 100.0% |  9.0 min] Value: 5, Epochs: 27, Loss: 0.2790\n",
      "Best random_seed = 1, val_loss = 0.1815\n",
      "Stepwise optimization completed in 99.4 min\n",
      "\n",
      "  [Model 4/4] Training model: 'DynamicPoolingNetworkClassifier'\n",
      "Optimizing hyperparameter: hidden_layer_sizes (3 options)\n",
      "[1/28 |  3.6% |  4.5 min] Value: (2048, 1024, 512, 256, 128, 64), Epochs: 27, Loss: 0.0177\n",
      "[2/28 |  7.1% |  0.4 min] Value: (256, 128, 64), Epochs: 22, Loss: 0.0185\n",
      "[3/28 | 10.7% |  4.7 min] Value: (128,), Epochs: 535, Loss: 0.0171\n",
      "Best hidden_layer_sizes = (128,), val_loss = 0.0171\n",
      "Optimizing hyperparameter: activation (5 options)\n",
      "[4/28 | 14.3% |  2.1 min] Value: relu, Epochs: 86, Loss: 0.0112\n",
      "[5/28 | 17.9% |  1.7 min] Value: leakyrelu, Epochs: 77, Loss: 0.0117\n",
      "[6/28 | 21.4% |  8.0 min] Value: gelu, Epochs: 581, Loss: 0.0173\n",
      "[7/28 | 25.0% |  5.1 min] Value: elu, Epochs: 319, Loss: 0.0215\n",
      "[8/28 | 28.6% |  7.4 min] Value: silu, Epochs: 541, Loss: 0.0178\n",
      "Best activation = relu, val_loss = 0.0112\n",
      "Optimizing hyperparameter: learning_rate (2 options)\n",
      "[9/28 | 32.1% |  4.6 min] Value: 0.0001, Epochs: 605, Loss: 0.0104\n",
      "[10/28 | 35.7% |  1.2 min] Value: 0.001, Epochs: 90, Loss: 0.0112\n",
      "Best learning_rate = 0.0001, val_loss = 0.0104\n",
      "Optimizing hyperparameter: batch_size (3 options)\n",
      "[11/28 | 39.3% |  3.1 min] Value: 32, Epochs: 199, Loss: 0.0110\n",
      "[12/28 | 42.9% |  7.8 min] Value: 512, Epochs: 583, Loss: 0.0111\n",
      "[13/28 | 46.4% | 11.5 min] Value: 1024, Epochs: 1001, Loss: 0.0107\n",
      "Best batch_size = 1024, val_loss = 0.0107\n",
      "Optimizing hyperparameter: weight_decay (5 options)\n",
      "[14/28 | 50.0% | 26.5 min] Value: 0.0, Epochs: 1001, Loss: 0.0107\n",
      "[15/28 | 53.6% | 26.2 min] Value: 1e-05, Epochs: 1001, Loss: 0.0107\n",
      "[16/28 | 57.1% | 25.3 min] Value: 0.0001, Epochs: 1001, Loss: 0.0107\n",
      "[17/28 | 60.7% | 26.7 min] Value: 0.001, Epochs: 1001, Loss: 0.0107\n",
      "[18/28 | 64.3% | 26.6 min] Value: 0.01, Epochs: 1001, Loss: 0.0107\n",
      "Best weight_decay = 0.01, val_loss = 0.0107\n",
      "Optimizing hyperparameter: instance_dropout (5 options)\n",
      "[19/28 | 67.9% | 12.9 min] Value: 0.0, Epochs: 1001, Loss: 0.0107\n",
      "[20/28 | 71.4% |  9.8 min] Value: 0.2, Epochs: 580, Loss: 0.0172\n",
      "[21/28 | 75.0% |  9.3 min] Value: 0.4, Epochs: 528, Loss: 0.0392\n",
      "[22/28 | 78.6% |  0.3 min] Value: 0.6, Epochs: 12, Loss: 0.1212\n",
      "[23/28 | 82.1% |  0.3 min] Value: 0.8, Epochs: 12, Loss: 0.1233\n",
      "Best instance_dropout = 0.0, val_loss = 0.0107\n",
      "Optimizing hyperparameter: random_seed (5 options)\n",
      "[24/28 | 85.7% | 27.0 min] Value: 1, Epochs: 1001, Loss: 0.0095\n",
      "[25/28 | 89.3% | 27.5 min] Value: 2, Epochs: 1001, Loss: 0.0124\n",
      "[26/28 | 92.9% | 27.6 min] Value: 3, Epochs: 1001, Loss: 0.0119\n",
      "[27/28 | 96.4% | 27.3 min] Value: 4, Epochs: 1001, Loss: 0.0067\n",
      "[28/28 | 100.0% | 26.7 min] Value: 5, Epochs: 1001, Loss: 0.0097\n",
      "Best random_seed = 4, val_loss = 0.0067\n",
      "Stepwise optimization completed in 96.0 min\n",
      "\n",
      "\n",
      "All models completed.\n"
     ]
    }
   ],
   "source": [
    "res_df = pd.DataFrame()\n",
    "for model_idx, (name, model) in enumerate(classifier_list, 1):\n",
    "    print(f\"  [Model {model_idx}/{len(classifier_list)}] Training model: '{name}'\")\n",
    "\n",
    "    # train model\n",
    "    model.hopt(x_train_scaled, y_train, param_grid=DEFAULT_PARAM_GRID, verbose=True)\n",
    "    model.fit(x_train_scaled, y_train)\n",
    "    \n",
    "    # predict\n",
    "    y_pred = model.predict(x_test_scaled)\n",
    "    y_pred = np.where(y_prob > 0.5, 1, 0)\n",
    "    w_pred = model.get_instance_weights(x_test_scaled)\n",
    "    w_pred = [w.flatten() for w in w_pred]\n",
    "    #\n",
    "    res_df.loc[name, \"PRED_ACC\"] = accuracy_score(y_test, y_pred)\n",
    "    res_df.loc[name, \"KID_RANK\"] = kid_accuracy(key_test, w_pred, y_test, top_k=1)\n",
    "\n",
    "print(\"\\nAll models completed.\")"
   ]
  },
  {
   "cell_type": "code",
   "execution_count": 19,
   "id": "c7da8bcd-a6cd-4177-b02f-5c12b7219884",
   "metadata": {},
   "outputs": [
    {
     "data": {
      "text/html": [
       "<div>\n",
       "<style scoped>\n",
       "    .dataframe tbody tr th:only-of-type {\n",
       "        vertical-align: middle;\n",
       "    }\n",
       "\n",
       "    .dataframe tbody tr th {\n",
       "        vertical-align: top;\n",
       "    }\n",
       "\n",
       "    .dataframe thead th {\n",
       "        text-align: right;\n",
       "    }\n",
       "</style>\n",
       "<table border=\"1\" class=\"dataframe\">\n",
       "  <thead>\n",
       "    <tr style=\"text-align: right;\">\n",
       "      <th></th>\n",
       "      <th>PRED_ACC</th>\n",
       "      <th>KID_RANK</th>\n",
       "    </tr>\n",
       "  </thead>\n",
       "  <tbody>\n",
       "    <tr>\n",
       "      <th>AdditiveAttentionNetworkClassifier</th>\n",
       "      <td>1.0</td>\n",
       "      <td>1.00</td>\n",
       "    </tr>\n",
       "    <tr>\n",
       "      <th>SelfAttentionNetworkClassifier</th>\n",
       "      <td>1.0</td>\n",
       "      <td>0.96</td>\n",
       "    </tr>\n",
       "    <tr>\n",
       "      <th>HopfieldAttentionNetworkClassifier</th>\n",
       "      <td>1.0</td>\n",
       "      <td>0.69</td>\n",
       "    </tr>\n",
       "    <tr>\n",
       "      <th>DynamicPoolingNetworkClassifier</th>\n",
       "      <td>1.0</td>\n",
       "      <td>1.00</td>\n",
       "    </tr>\n",
       "  </tbody>\n",
       "</table>\n",
       "</div>"
      ],
      "text/plain": [
       "                                    PRED_ACC  KID_RANK\n",
       "AdditiveAttentionNetworkClassifier       1.0      1.00\n",
       "SelfAttentionNetworkClassifier           1.0      0.96\n",
       "HopfieldAttentionNetworkClassifier       1.0      0.69\n",
       "DynamicPoolingNetworkClassifier          1.0      1.00"
      ]
     },
     "execution_count": 19,
     "metadata": {},
     "output_type": "execute_result"
    }
   ],
   "source": [
    "res_df.round(2)"
   ]
  },
  {
   "cell_type": "code",
   "execution_count": null,
   "id": "a5ac8c7a-d124-429d-92b0-1ee64f249b21",
   "metadata": {},
   "outputs": [],
   "source": []
  },
  {
   "cell_type": "code",
   "execution_count": null,
   "id": "63837ea9-8efe-4105-9255-127c8d5b29ae",
   "metadata": {},
   "outputs": [],
   "source": []
  }
 ],
 "metadata": {
  "kernelspec": {
   "display_name": "seqmil",
   "language": "python",
   "name": "seqmil"
  },
  "language_info": {
   "codemirror_mode": {
    "name": "ipython",
    "version": 3
   },
   "file_extension": ".py",
   "mimetype": "text/x-python",
   "name": "python",
   "nbconvert_exporter": "python",
   "pygments_lexer": "ipython3",
   "version": "3.10.19"
  }
 },
 "nbformat": 4,
 "nbformat_minor": 5
}
