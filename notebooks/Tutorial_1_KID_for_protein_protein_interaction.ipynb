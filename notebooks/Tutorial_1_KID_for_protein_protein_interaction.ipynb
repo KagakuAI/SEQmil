{
 "cells": [
  {
   "cell_type": "markdown",
   "id": "4a1c02ba-af7b-4f92-a7a6-1885537e776d",
   "metadata": {},
   "source": [
    "### Prediction visualization"
   ]
  },
  {
   "cell_type": "code",
   "execution_count": 1,
   "id": "e5f02c00-04cd-4c05-8e59-1e1d73f417a8",
   "metadata": {},
   "outputs": [],
   "source": [
    "import matplotlib.pyplot as plt\n",
    "import numpy as np\n",
    "\n",
    "def visualize_bag_predictions(bag, predictions, top_k=10):\n",
    "    \"\"\"\n",
    "    Visualize a single MIL bag with predicted instance weights.\n",
    "    \n",
    "    Parameters:\n",
    "    - bag: dict with keys:\n",
    "        'protein_1' (str), 'protein_2' (str),\n",
    "        'subseqs_1' (list of str), 'subseqs_2' (list of str),\n",
    "        'key_indices' (list of int),\n",
    "        'label' (int),\n",
    "        'motif' (str)  # Make sure motif is provided in bag\n",
    "    - predictions: 1D np.array or list of predicted weights, same length as number of instances in bag.\n",
    "    - top_k: int, number of top subsequence pairs to display\n",
    "    \n",
    "    Displays:\n",
    "    - Proteins with highlighted motif occurrences (in blue).\n",
    "    - Table of top_k pairs sorted by predicted weight, indicating true key instances.\n",
    "    \"\"\"\n",
    "    \n",
    "    p1 = bag['protein_1']\n",
    "    p2 = bag['protein_2']\n",
    "    subseqs_1 = bag['subseqs_1']\n",
    "    subseqs_2 = bag['subseqs_2']\n",
    "    key_indices = set(bag['key_indices'])\n",
    "    label = bag['label']\n",
    "    motif = bag.get('motif', None)\n",
    "    \n",
    "    # Lengths\n",
    "    n_subseqs_1 = len(subseqs_1)\n",
    "    n_subseqs_2 = len(subseqs_2)\n",
    "    \n",
    "    # Find motif occurrences (positions) in each protein (if motif given)\n",
    "    def find_motif_positions(protein, motif):\n",
    "        positions = []\n",
    "        if motif:\n",
    "            start = 0\n",
    "            while True:\n",
    "                idx = protein.find(motif, start)\n",
    "                if idx == -1:\n",
    "                    break\n",
    "                positions.extend(range(idx, idx + len(motif)))\n",
    "                start = idx + 1\n",
    "        return set(positions)\n",
    "    \n",
    "    motif_positions_1 = find_motif_positions(p1, motif)\n",
    "    motif_positions_2 = find_motif_positions(p2, motif)\n",
    "    \n",
    "    # Visualize proteins with highlights for motif positions\n",
    "    def highlight_protein(seq, motif_pos_set):\n",
    "        \"\"\"Return a list of tuples (char, highlight_bool)\"\"\"\n",
    "        highlight_mask = [i in motif_pos_set for i in range(len(seq))]\n",
    "        return [(c, h) for c, h in zip(seq, highlight_mask)]\n",
    "    \n",
    "    # Plot proteins\n",
    "    h_protein_1 = highlight_protein(p1, motif_positions_1)\n",
    "    h_protein_2 = highlight_protein(p2, motif_positions_2)\n",
    "    \n",
    "    fig, axs = plt.subplots(3, 1, figsize=(14, 8))\n",
    "    fig.suptitle(f\"Bag label: {label} - Key instances: {len(key_indices)}\", fontsize=16)\n",
    "    \n",
    "    def plot_highlighted_sequence(ax, highlighted_seq, title):\n",
    "        ax.set_title(title)\n",
    "        ax.axis('off')\n",
    "        for i, (char, highlight) in enumerate(highlighted_seq):\n",
    "            color = 'blue' if highlight else 'black'\n",
    "            bbox = dict(facecolor='lightblue', alpha=0.5) if highlight else None\n",
    "            ax.text(i, 0, char, color=color, fontsize=14, fontweight='bold' if highlight else 'normal', bbox=bbox)\n",
    "        ax.set_xlim(-1, len(highlighted_seq))\n",
    "        ax.set_ylim(-1, 1)\n",
    "    \n",
    "    plot_highlighted_sequence(axs[0], h_protein_1, \"Protein 1 (motif highlighted in blue)\")\n",
    "    plot_highlighted_sequence(axs[1], h_protein_2, \"Protein 2 (motif highlighted in blue)\")\n",
    "    \n",
    "    # Sort predicted weights descending and get top_k pairs\n",
    "    pred = np.array(predictions)\n",
    "    top_indices = np.argsort(pred)[::-1][:top_k]\n",
    "    \n",
    "    # Prepare pairs info for display\n",
    "    rows = []\n",
    "    for rank, idx in enumerate(top_indices, 1):\n",
    "        i = idx // n_subseqs_2\n",
    "        j = idx % n_subseqs_2\n",
    "        s1 = subseqs_1[i]\n",
    "        s2 = subseqs_2[j]\n",
    "        weight = pred[idx]\n",
    "        is_key = \"YES\" if idx in key_indices else \"NO\"\n",
    "        rows.append((rank, i, s1, j, s2, weight, is_key))\n",
    "    \n",
    "    # Display table below sequences\n",
    "    col_labels = [\"Rank\", \"Subseq idx P1\", \"Subseq P1\", \"Subseq idx P2\", \"Subseq P2\", \"Predicted weight\", \"Is Key Instance\"]\n",
    "    table_data = [[str(x) for x in row] for row in rows]\n",
    "    \n",
    "    axs[2].axis('off')\n",
    "    table = axs[2].table(cellText=table_data, colLabels=col_labels, loc='center', cellLoc='center')\n",
    "    table.auto_set_font_size(False)\n",
    "    table.set_fontsize(10)\n",
    "    table.scale(1, 1.5)\n",
    "    \n",
    "    plt.tight_layout(rect=[0, 0, 1, 0.95])\n",
    "    plt.show()"
   ]
  },
  {
   "cell_type": "markdown",
   "id": "a6f13617-dc76-4a73-a2fa-232cdf2b0d4f",
   "metadata": {},
   "source": [
    "### Introduction\n",
    "\n",
    "Designing a synthetic protein-protein interaction (PPI) dataset tailored for Key Instance Detection (KID) in Multi-Instance Learning (MIL) with realistic parameters involves several steps."
   ]
  },
  {
   "cell_type": "markdown",
   "id": "30a1e3a1-13f7-47ba-a8de-700dde03ffd5",
   "metadata": {},
   "source": [
    "### 1. Dataset Parameters Should Be Realistic\n",
    "\n",
    "**Protein length:**\n",
    "Real proteins vary widely, but many typical domains and proteins range from 100 to 500 amino acids. To keep it manageable, you might simulate proteins of lengths between 100 and 300 residues. This captures small-to-medium proteins realistically.\n",
    "\n",
    "**Amino acid alphabet:**\n",
    "Use the standard 20 amino acids.\n",
    "\n",
    "### 2. Sliding Window Approach for Bags of Subsequences\n",
    "\n",
    "Since domain location is unknown, split each protein into overlapping subsequences (instances) using a sliding window.\n",
    "\n",
    "Each subsequence is an instance.\n",
    "\n",
    "Then the bag corresponds to all subsequences from both proteins concatenated or paired somehow.\n",
    "\n",
    "### 3. Choosing Sliding Window Size\n",
    "\n",
    "Protein domains typically vary in length but many fall within 50-150 amino acids.\n",
    "\n",
    "Key functional motifs (shorter interaction motifs) can be even smaller (~6-20 amino acids), so the window should be around the average domain size: 80-120 amino acids.\n",
    "\n",
    "**Sliding window parameters:**\n",
    "\n",
    "``Window size:`` ~100 residues (tunable)\n",
    "\n",
    "``Step size:`` maybe 10-20 residues (to create overlap and more instances)\n",
    "\n",
    "### 4. Bag Labeling Logic\n",
    "\n",
    "**Positive bag:** two proteins interact via a motif (or domain) but the motif location is unknown.\n",
    "\n",
    "**Negative bag:** two proteins do not interact.\n",
    "\n",
    "In synthetic data, it is possible embed a known interaction motif (a fixed amino acid subsequence pattern) randomly inside one subsequence of the first protein and one subsequence of the second protein, but these subsequences are hidden within bags of all subsequences.\n",
    "\n",
    "Positive bags contain at least one pair of subsequences from the two proteins that contain this motif (the key instance).\n",
    "\n",
    "Negative bags contain no such pair."
   ]
  },
  {
   "cell_type": "markdown",
   "id": "efc5eb01-09d5-473e-bc0a-3879243d0bb1",
   "metadata": {},
   "source": [
    "### 5. Bags design\n",
    "\n",
    "Bags contain all pairs of subsequences (cross-product)\n",
    "\n",
    "**What it means:**\n",
    "You generate every pair of subsequences (a_i, b_j) from protein A and B:\n",
    "\n",
    "**Pros:**\n",
    "\n",
    "Much more biologically realistic: protein-protein interaction occurs via domain-domain interaction.\n",
    "\n",
    "Each instance models a candidate interaction pair — which is ideal for key instance detection.\n",
    "\n",
    "Enables your MIL model to explicitly identify which pair of regions causes interaction.\n",
    "\n",
    "**Cons:**\n",
    "\n",
    "Quadratic growth in instance count: If each protein has 20 subsequences, the bag will have 400 instances.\n",
    "\n",
    "More computationally expensive — training MIL models on large bags can be slow.\n",
    "\n",
    "Each instance (pair) must be encoded as a combined feature vector (e.g., concatenation, difference, outer product, or using a neural pair encoder)."
   ]
  },
  {
   "cell_type": "code",
   "execution_count": 2,
   "id": "0a4e30d9-ed7a-4362-9025-2b658521027d",
   "metadata": {},
   "outputs": [],
   "source": [
    "import logging\n",
    "import warnings\n",
    "warnings.filterwarnings(\"ignore\")\n",
    "logging.getLogger(\"pytorch_lightning\").setLevel(logging.ERROR)\n",
    "logging.getLogger(\"lightning\").setLevel(logging.ERROR)\n",
    "\n",
    "import time\n",
    "import torch\n",
    "import random\n",
    "\n",
    "import numpy as np\n",
    "import pandas as pd\n",
    "\n",
    "import matplotlib.pyplot as plt\n",
    "\n",
    "# Preprocessing\n",
    "from milearn.preprocessing import BagMinMaxScaler\n",
    "\n",
    "# Network hparams\n",
    "from milearn.network.module.hopt import DEFAULT_PARAM_GRID\n",
    "\n",
    "# MIL wrappers\n",
    "from milearn.network.regressor import BagWrapperMLPNetworkRegressor, InstanceWrapperMLPNetworkRegressor\n",
    "from milearn.network.classifier import BagWrapperMLPNetworkClassifier, InstanceWrapperMLPNetworkClassifier\n",
    "\n",
    "# MIL networks\n",
    "from milearn.network.classifier import (InstanceNetworkClassifier,\n",
    "                                        BagNetworkClassifier,\n",
    "                                        AdditiveAttentionNetworkClassifier,\n",
    "                                        SelfAttentionNetworkClassifier,\n",
    "                                        HopfieldAttentionNetworkClassifier,\n",
    "                                        DynamicPoolingNetworkClassifier)\n",
    "\n",
    "# Utils\n",
    "from sklearn.metrics import r2_score, accuracy_score\n",
    "from scipy.stats import spearmanr\n",
    "from sklearn.model_selection import train_test_split"
   ]
  },
  {
   "cell_type": "code",
   "execution_count": 3,
   "id": "67b85934-d16d-4d85-9ce7-e07bd976721d",
   "metadata": {},
   "outputs": [],
   "source": [
    "import numpy as np\n",
    "import random\n",
    "from sklearn.model_selection import train_test_split\n",
    "\n",
    "# ==== Parameters ====\n",
    "PROTEIN_LENGTH = 50\n",
    "WINDOW_SIZE = 10\n",
    "STEP_SIZE = 3               # sliding window step to reduce subsequences\n",
    "AMINO_ACIDS = \"ACDEFGHIKLMNPQRSTVWY\"\n",
    "N_MOTIFS = 1\n",
    "MOTIF_LENGTH = 6\n",
    "N_BAGS = 1000\n",
    "POS_RATIO = 0.5\n",
    "SEED = 42\n",
    "\n",
    "random.seed(SEED)\n",
    "np.random.seed(SEED)\n",
    "\n",
    "# ==== Generate Random Motifs ====\n",
    "MOTIFS = [\"\".join(random.choices(AMINO_ACIDS, k=MOTIF_LENGTH)) for _ in range(N_MOTIFS)]\n",
    "\n",
    "# ==== Utils ====\n",
    "def generate_protein(length=PROTEIN_LENGTH):\n",
    "    return \"\".join(random.choices(AMINO_ACIDS, k=length))\n",
    "\n",
    "def embed_motif(protein, motif):\n",
    "    start = random.randint(0, len(protein) - len(motif))\n",
    "    return protein[:start] + motif + protein[start + len(motif):], start\n",
    "\n",
    "def sliding_windows(protein, window=WINDOW_SIZE, step=STEP_SIZE):\n",
    "    return [protein[i:i+window] for i in range(0, len(protein) - window + 1, step)]\n",
    "\n",
    "def onehot_encode(seq):\n",
    "    aa_to_idx = {aa: i for i, aa in enumerate(AMINO_ACIDS)}\n",
    "    vec = np.zeros((len(seq), len(AMINO_ACIDS)))\n",
    "    for i, aa in enumerate(seq):\n",
    "        if aa in aa_to_idx:\n",
    "            vec[i, aa_to_idx[aa]] = 1.0\n",
    "    return vec.flatten()\n",
    "\n",
    "# ==== Protein Pair Generation ====\n",
    "def generate_protein_pair_with_motif(is_positive):\n",
    "    p1 = generate_protein()\n",
    "    p2 = generate_protein()\n",
    "\n",
    "    key_indices = []\n",
    "    motif = None\n",
    "\n",
    "    if is_positive:\n",
    "        motif = random.choice(MOTIFS)\n",
    "        p1, idx1 = embed_motif(p1, motif)\n",
    "        p2, idx2 = embed_motif(p2, motif)\n",
    "\n",
    "        subseqs1 = sliding_windows(p1)\n",
    "        subseqs2 = sliding_windows(p2)\n",
    "\n",
    "        for i, s1 in enumerate(subseqs1):\n",
    "            if motif in s1:\n",
    "                for j, s2 in enumerate(subseqs2):\n",
    "                    if motif in s2:\n",
    "                        key_indices.append(i * len(subseqs2) + j)\n",
    "\n",
    "    return p1, p2, key_indices, motif\n",
    "\n",
    "# ==== Bag Construction ====\n",
    "def create_bag_and_keys(p1, p2, key_indices=None, motif=None):\n",
    "    subseqs1 = sliding_windows(p1)\n",
    "    subseqs2 = sliding_windows(p2)\n",
    "\n",
    "    bag = []\n",
    "    key_instance_indices = []\n",
    "\n",
    "    for i, s1 in enumerate(subseqs1):\n",
    "        for j, s2 in enumerate(subseqs2):\n",
    "            vec1 = onehot_encode(s1)\n",
    "            vec2 = onehot_encode(s2)\n",
    "            pair_vec = np.concatenate([vec1, vec2])\n",
    "            bag.append(pair_vec)\n",
    "            if key_indices and (i * len(subseqs2) + j) in key_indices:\n",
    "                key_instance_indices.append(len(bag) - 1)\n",
    "\n",
    "    return {\n",
    "        \"encoded_bag\": np.stack(bag),\n",
    "        \"label\": 1 if key_indices else 0,\n",
    "        \"key_indices\": key_instance_indices,\n",
    "        \"protein_1\": p1,\n",
    "        \"protein_2\": p2,\n",
    "        \"subseqs_1\": subseqs1,\n",
    "        \"subseqs_2\": subseqs2,\n",
    "        \"motif\": motif\n",
    "    }\n",
    "\n",
    "# ==== Dataset Generation ====\n",
    "def generate_dataset_with_keys(n_bags=N_BAGS, pos_ratio=POS_RATIO):\n",
    "    bags = []\n",
    "    n_pos = int(n_bags * pos_ratio)\n",
    "    n_neg = n_bags - n_pos\n",
    "\n",
    "    print(f\"Generating {n_pos} positive and {n_neg} negative bags...\")\n",
    "\n",
    "    for i in range(n_pos):\n",
    "        p1, p2, key_indices, motif = generate_protein_pair_with_motif(True)\n",
    "        bag_data = create_bag_and_keys(p1, p2, key_indices, motif)\n",
    "        bags.append(bag_data)\n",
    "        if (i + 1) % 50 == 0 or (i + 1) == n_pos:\n",
    "            print(f\"Generated {i + 1}/{n_pos} positive bags\")\n",
    "\n",
    "    for i in range(n_neg):\n",
    "        p1, p2, _, motif = generate_protein_pair_with_motif(False)\n",
    "        bag_data = create_bag_and_keys(p1, p2, None, motif)\n",
    "        bags.append(bag_data)\n",
    "        if (i + 1) % 50 == 0 or (i + 1) == n_neg:\n",
    "            print(f\"Generated {i + 1}/{n_neg} negative bags\")\n",
    "\n",
    "    print(\"Dataset generation complete.\")\n",
    "    return bags\n",
    "\n",
    "# ==== KID Accuracy Function ====\n",
    "def kid_accuracy(true_key_indices, predictions, labels, top_k=1):\n",
    "    assert len(predictions) == len(true_key_indices) == len(labels)\n",
    "\n",
    "    correct = 0\n",
    "    total = 0\n",
    "\n",
    "    for pred, true_keys, label in zip(predictions, true_key_indices, labels):\n",
    "        if label != 1:\n",
    "            continue\n",
    "        total += 1\n",
    "\n",
    "        if len(true_keys) == 0:\n",
    "            continue\n",
    "\n",
    "        top_pred_indices = np.argsort(pred)[-top_k:]\n",
    "        if any(idx in true_keys for idx in top_pred_indices):\n",
    "            correct += 1\n",
    "\n",
    "    return correct / total if total > 0 else 0.0"
   ]
  },
  {
   "cell_type": "markdown",
   "id": "28f4e473-0f2a-4f1c-95ae-76e1548c993f",
   "metadata": {},
   "source": [
    "### 1. Create PPI dataset"
   ]
  },
  {
   "cell_type": "code",
   "execution_count": 4,
   "id": "2f0c7943-b1eb-486e-939c-a9821f3229b5",
   "metadata": {},
   "outputs": [
    {
     "name": "stdout",
     "output_type": "stream",
     "text": [
      "Generating 500 positive and 500 negative bags...\n",
      "Generated 50/500 positive bags\n",
      "Generated 100/500 positive bags\n",
      "Generated 150/500 positive bags\n",
      "Generated 200/500 positive bags\n",
      "Generated 250/500 positive bags\n",
      "Generated 300/500 positive bags\n",
      "Generated 350/500 positive bags\n",
      "Generated 400/500 positive bags\n",
      "Generated 450/500 positive bags\n",
      "Generated 500/500 positive bags\n",
      "Generated 50/500 negative bags\n",
      "Generated 100/500 negative bags\n",
      "Generated 150/500 negative bags\n",
      "Generated 200/500 negative bags\n",
      "Generated 250/500 negative bags\n",
      "Generated 300/500 negative bags\n",
      "Generated 350/500 negative bags\n",
      "Generated 400/500 negative bags\n",
      "Generated 450/500 negative bags\n",
      "Generated 500/500 negative bags\n",
      "Dataset generation complete.\n"
     ]
    }
   ],
   "source": [
    "bags = generate_dataset_with_keys()\n",
    "# \n",
    "dsc = [i[\"encoded_bag\"] for i in bags]\n",
    "labels = [i[\"label\"] for i in bags]\n",
    "key = [i[\"key_indices\"] for i in bags]"
   ]
  },
  {
   "cell_type": "code",
   "execution_count": 5,
   "id": "697248cc-1800-494e-917c-999aabec66bd",
   "metadata": {},
   "outputs": [
    {
     "data": {
      "text/plain": [
       "(196, 400)"
      ]
     },
     "execution_count": 5,
     "metadata": {},
     "output_type": "execute_result"
    }
   ],
   "source": [
    "bags[0]['encoded_bag'].shape"
   ]
  },
  {
   "cell_type": "code",
   "execution_count": 6,
   "id": "5cad02d1-b019-4aec-9d98-347a3d7d93ec",
   "metadata": {},
   "outputs": [
    {
     "data": {
      "text/plain": [
       "'PAGFRQ'"
      ]
     },
     "execution_count": 6,
     "metadata": {},
     "output_type": "execute_result"
    }
   ],
   "source": [
    "bags[0]['motif']"
   ]
  },
  {
   "cell_type": "code",
   "execution_count": 7,
   "id": "ce8432ab-e065-4705-877c-7cc89585c919",
   "metadata": {},
   "outputs": [
    {
     "data": {
      "text/plain": [
       "'VCKAFMAEPMFNTATQHEPAGFRQTRMYINTPVNRAFGCFDGPIIFGWPP'"
      ]
     },
     "execution_count": 7,
     "metadata": {},
     "output_type": "execute_result"
    }
   ],
   "source": [
    "bags[0]['protein_1']"
   ]
  },
  {
   "cell_type": "code",
   "execution_count": 8,
   "id": "8ba4bf14-59d8-4ca3-b592-aafc7ce29531",
   "metadata": {},
   "outputs": [
    {
     "data": {
      "text/plain": [
       "'EREIYPNQTSFAHGFWVHQIWLGFNGNPAGFRQADPSKCIYMYVARQMGP'"
      ]
     },
     "execution_count": 8,
     "metadata": {},
     "output_type": "execute_result"
    }
   ],
   "source": [
    "bags[0]['protein_2']"
   ]
  },
  {
   "cell_type": "code",
   "execution_count": 9,
   "id": "8ae08114-4fac-49a3-8f3d-9efec49e9058",
   "metadata": {},
   "outputs": [
    {
     "data": {
      "text/plain": [
       "[78, 79, 92, 93]"
      ]
     },
     "execution_count": 9,
     "metadata": {},
     "output_type": "execute_result"
    }
   ],
   "source": [
    "bags[0][\"key_indices\"]"
   ]
  },
  {
   "cell_type": "markdown",
   "id": "a28cc663-80ef-4629-be79-26612251e293",
   "metadata": {},
   "source": [
    "### 2. Build model"
   ]
  },
  {
   "cell_type": "code",
   "execution_count": 10,
   "id": "408368f2-94e9-4220-8517-8158e650181d",
   "metadata": {},
   "outputs": [],
   "source": [
    "x_train, x_test, y_train, y_test, key_train, key_test, seq_train, seq_test = train_test_split(\n",
    "    dsc, labels, key, bags, test_size=0.2, random_state=SEED, stratify=labels\n",
    ")\n",
    "#\n",
    "scaler = BagMinMaxScaler()\n",
    "scaler.fit(x_train)\n",
    "x_train_scaled = scaler.transform(x_train)\n",
    "x_test_scaled = scaler.transform(x_test)"
   ]
  },
  {
   "cell_type": "code",
   "execution_count": 11,
   "id": "03caf00d-2437-4178-864c-1f1ea02d18ca",
   "metadata": {
    "scrolled": true
   },
   "outputs": [
    {
     "name": "stdout",
     "output_type": "stream",
     "text": [
      "Optimizing hyperparameter: hidden_layer_sizes (3 options)\n",
      "[1/31 |  3.2% |  3.0 min] Value: (2048, 1024, 512, 256, 128, 64), Epochs: 16, Loss: 0.1493\n",
      "[2/31 |  6.5% |  0.9 min] Value: (256, 128, 64), Epochs: 19, Loss: 0.1244\n",
      "[3/31 |  9.7% |  1.0 min] Value: (128,), Epochs: 29, Loss: 0.0314\n",
      "Best hidden_layer_sizes = (128,), val_loss = 0.0314\n",
      "Optimizing hyperparameter: activation (5 options)\n",
      "[4/31 | 12.9% |  2.2 min] Value: relu, Epochs: 31, Loss: 0.0263\n",
      "[5/31 | 16.1% |  2.0 min] Value: leakyrelu, Epochs: 27, Loss: 0.0639\n",
      "[6/31 | 19.4% |  2.2 min] Value: gelu, Epochs: 31, Loss: 0.0260\n",
      "[7/31 | 22.6% |  2.2 min] Value: elu, Epochs: 32, Loss: 0.0449\n",
      "[8/31 | 25.8% |  2.3 min] Value: silu, Epochs: 35, Loss: 0.0314\n",
      "Best activation = gelu, val_loss = 0.0260\n",
      "Optimizing hyperparameter: learning_rate (2 options)\n",
      "[9/31 | 29.0% |  6.0 min] Value: 0.0001, Epochs: 185, Loss: 0.0301\n",
      "[10/31 | 32.3% |  3.4 min] Value: 0.001, Epochs: 30, Loss: 0.0326\n",
      "Best learning_rate = 0.0001, val_loss = 0.0301\n",
      "Optimizing hyperparameter: batch_size (3 options)\n",
      "[11/31 | 35.5% | 12.4 min] Value: 32, Epochs: 101, Loss: 0.0245\n",
      "[12/31 | 38.7% | 15.0 min] Value: 512, Epochs: 395, Loss: 0.0302\n",
      "[13/31 | 41.9% | 19.1 min] Value: 1024, Epochs: 881, Loss: 0.0244\n",
      "Best batch_size = 1024, val_loss = 0.0244\n",
      "Optimizing hyperparameter: weight_decay (5 options)\n",
      "[14/31 | 45.2% | 22.6 min] Value: 0.0, Epochs: 881, Loss: 0.0244\n",
      "[15/31 | 48.4% | 11.6 min] Value: 1e-05, Epochs: 393, Loss: 0.0640\n",
      "[16/31 | 51.6% | 22.6 min] Value: 0.0001, Epochs: 881, Loss: 0.0244\n",
      "[17/31 | 54.8% | 22.7 min] Value: 0.001, Epochs: 881, Loss: 0.0244\n",
      "[18/31 | 58.1% | 22.6 min] Value: 0.01, Epochs: 880, Loss: 0.0244\n",
      "Best weight_decay = 0.01, val_loss = 0.0244\n",
      "Optimizing hyperparameter: tau (3 options)\n",
      "[19/31 | 61.3% |  4.1 min] Value: 0.01, Epochs: 117, Loss: 0.6561\n",
      "[20/31 | 64.5% | 13.8 min] Value: 0.5, Epochs: 990, Loss: 0.0441\n",
      "[21/31 | 67.7% | 12.8 min] Value: 1.0, Epochs: 880, Loss: 0.0244\n",
      "Best tau = 1.0, val_loss = 0.0244\n",
      "Optimizing hyperparameter: instance_dropout (5 options)\n",
      "[22/31 | 71.0% | 15.1 min] Value: 0.0, Epochs: 880, Loss: 0.0244\n",
      "[23/31 | 74.2% | 12.2 min] Value: 0.2, Epochs: 436, Loss: 0.0428\n",
      "[24/31 | 77.4% | 12.7 min] Value: 0.4, Epochs: 491, Loss: 0.0483\n",
      "[25/31 | 80.6% | 11.8 min] Value: 0.6, Epochs: 418, Loss: 0.0727\n",
      "[26/31 | 83.9% | 12.2 min] Value: 0.8, Epochs: 432, Loss: 0.0954\n",
      "Best instance_dropout = 0.0, val_loss = 0.0244\n",
      "Optimizing hyperparameter: random_seed (5 options)\n",
      "[27/31 | 87.1% | 10.3 min] Value: 1, Epochs: 396, Loss: 0.1247\n",
      "[28/31 | 90.3% |  9.8 min] Value: 2, Epochs: 367, Loss: 0.1038\n",
      "[29/31 | 93.5% | 10.2 min] Value: 3, Epochs: 379, Loss: 0.0823\n",
      "[30/31 | 96.8% | 13.7 min] Value: 4, Epochs: 899, Loss: 0.0607\n",
      "[31/31 | 100.0% | 10.6 min] Value: 5, Epochs: 415, Loss: 0.0713\n",
      "Best random_seed = 4, val_loss = 0.0607\n",
      "Stepwise optimization completed in 95.7 min\n",
      "\n"
     ]
    },
    {
     "data": {
      "text/plain": [
       "AdditiveAttentionNetworkClassifier(\n",
       "  (instance_transformer): Sequential(\n",
       "    (0): Linear(in_features=400, out_features=128, bias=True)\n",
       "    (1): GELU(approximate='none')\n",
       "  )\n",
       "  (bag_estimator): Linear(in_features=128, out_features=1, bias=True)\n",
       "  (attention): Sequential(\n",
       "    (0): Linear(in_features=128, out_features=128, bias=True)\n",
       "    (1): Tanh()\n",
       "    (2): Linear(in_features=128, out_features=1, bias=True)\n",
       "  )\n",
       ")"
      ]
     },
     "execution_count": 11,
     "metadata": {},
     "output_type": "execute_result"
    }
   ],
   "source": [
    "model = AdditiveAttentionNetworkClassifier()\n",
    "model.hopt(x_train_scaled, y_train, param_grid=DEFAULT_PARAM_GRID, verbose=True)\n",
    "model.fit(x_train_scaled, y_train)"
   ]
  },
  {
   "cell_type": "code",
   "execution_count": 12,
   "id": "fead5cc0-846e-4fcc-99ad-9c61c4af8ac6",
   "metadata": {},
   "outputs": [],
   "source": [
    "y_prob = model.predict(x_test_scaled)\n",
    "y_pred = np.where(y_prob > 0.5, 1, 0)\n",
    "\n",
    "w_pred = model.get_instance_weights(x_test_scaled)\n",
    "w_pred = [w.flatten() for w in w_pred]"
   ]
  },
  {
   "cell_type": "code",
   "execution_count": 13,
   "id": "9d343140-e14a-4f6d-84fa-7fcf6f8e9b47",
   "metadata": {},
   "outputs": [
    {
     "name": "stdout",
     "output_type": "stream",
     "text": [
      "Classification accuracy: 0.96\n",
      "KID accuracy: 0.85\n"
     ]
    }
   ],
   "source": [
    "print(f\"Classification accuracy: {accuracy_score(y_test, y_pred):.2f}\")\n",
    "print(f\"KID accuracy: {kid_accuracy(key_test, w_pred, y_test, top_k=1):.2f}\")"
   ]
  },
  {
   "cell_type": "code",
   "execution_count": 14,
   "id": "489ac508-6f81-4cba-af61-f6b6dd6cd552",
   "metadata": {},
   "outputs": [
    {
     "data": {
      "text/plain": [
       "array([  4,   5,   6,  12,  13,  15,  20,  21,  23,  24,  25,  27,  28,\n",
       "        29,  30,  35,  38,  39,  40,  43,  44,  47,  52,  55,  59,  62,\n",
       "        65,  66,  67,  71,  72,  76,  77,  78,  79,  80,  83,  86,  87,\n",
       "        88,  89,  90,  96,  97,  98, 101, 102, 106, 109, 110, 111, 112,\n",
       "       114, 117, 118, 120, 123, 124, 128, 133, 135, 144, 145, 148, 149,\n",
       "       152, 153, 157, 158, 159, 161, 162, 165, 166, 170, 171, 179, 180,\n",
       "       184, 185, 189, 190, 191, 192, 193, 194, 196, 198])"
      ]
     },
     "execution_count": 14,
     "metadata": {},
     "output_type": "execute_result"
    }
   ],
   "source": [
    "# bags with correct positive class prediction (use these indexes for visualization)\n",
    "np.where((y_pred == 1) & (np.array(y_test) == 1))[0]"
   ]
  },
  {
   "cell_type": "code",
   "execution_count": 15,
   "id": "1d3872a1-10be-49b5-8673-ddd1fd474782",
   "metadata": {},
   "outputs": [
    {
     "data": {
      "image/png": "[encoded data removed]",
      "text/plain": [
       "<Figure size 1400x800 with 3 Axes>"
      ]
     },
     "metadata": {},
     "output_type": "display_data"
    }
   ],
   "source": [
    "N = 6\n",
    "visualize_bag_predictions(seq_test[N], w_pred[N].round(2), top_k=10)"
   ]
  },
  {
   "cell_type": "markdown",
   "id": "deb9a65b-1d30-4746-b99c-c0480486526c",
   "metadata": {},
   "source": [
    "### 3. Mini-benchmark"
   ]
  },
  {
   "cell_type": "code",
   "execution_count": 16,
   "id": "e5cf5d47-50d5-4fb0-a775-ee0c2c132f7f",
   "metadata": {},
   "outputs": [],
   "source": [
    "classifier_list = [\n",
    "    \n",
    "        # attention mil networks\n",
    "        (\"AdditiveAttentionNetworkClassifier\", AdditiveAttentionNetworkClassifier()),\n",
    "        (\"SelfAttentionNetworkClassifier\", SelfAttentionNetworkClassifier()),\n",
    "        (\"HopfieldAttentionNetworkClassifier\", HopfieldAttentionNetworkClassifier()),\n",
    "\n",
    "        # other mil networks\n",
    "        (\"DynamicPoolingNetworkClassifier\", DynamicPoolingNetworkClassifier()),\n",
    "    ]"
   ]
  },
  {
   "cell_type": "code",
   "execution_count": 17,
   "id": "fe494fa4-4eda-4444-ac2b-5f38bd4bef16",
   "metadata": {},
   "outputs": [
    {
     "name": "stdout",
     "output_type": "stream",
     "text": [
      "Generating 500 positive and 500 negative bags...\n",
      "Generated 50/500 positive bags\n",
      "Generated 100/500 positive bags\n",
      "Generated 150/500 positive bags\n",
      "Generated 200/500 positive bags\n",
      "Generated 250/500 positive bags\n",
      "Generated 300/500 positive bags\n",
      "Generated 350/500 positive bags\n",
      "Generated 400/500 positive bags\n",
      "Generated 450/500 positive bags\n",
      "Generated 500/500 positive bags\n",
      "Generated 50/500 negative bags\n",
      "Generated 100/500 negative bags\n",
      "Generated 150/500 negative bags\n",
      "Generated 200/500 negative bags\n",
      "Generated 250/500 negative bags\n",
      "Generated 300/500 negative bags\n",
      "Generated 350/500 negative bags\n",
      "Generated 400/500 negative bags\n",
      "Generated 450/500 negative bags\n",
      "Generated 500/500 negative bags\n",
      "Dataset generation complete.\n",
      "  [Model 1/4] Training model: 'AdditiveAttentionNetworkClassifier'\n",
      "  [Model 2/4] Training model: 'SelfAttentionNetworkClassifier'\n",
      "  [Model 3/4] Training model: 'HopfieldAttentionNetworkClassifier'\n",
      "  [Model 4/4] Training model: 'DynamicPoolingNetworkClassifier'\n",
      "\n",
      "All models completed.\n"
     ]
    }
   ],
   "source": [
    "# create data\n",
    "bags = generate_dataset_with_keys()\n",
    "dsc = [i[\"encoded_bag\"] for i in bags]\n",
    "labels = [i[\"label\"] for i in bags]\n",
    "key = [i[\"key_indices\"] for i in bags]\n",
    "\n",
    "# scale features\n",
    "scaler = BagMinMaxScaler()\n",
    "scaler.fit(x_train)\n",
    "x_train_scaled, x_test_scaled = scaler.transform(x_train), scaler.transform(x_test)\n",
    "\n",
    "# build models\n",
    "res_df = pd.DataFrame()\n",
    "for model_idx, (name, model) in enumerate(classifier_list, 1):\n",
    "    print(f\"  [Model {model_idx}/{len(classifier_list)}] Training model: '{name}'\")\n",
    "\n",
    "    # train model\n",
    "    # model.hopt(x_train_scaled, y_train, param_grid=DEFAULT_PARAM_GRID, verbose=False)\n",
    "    model.fit(x_train_scaled, y_train)\n",
    "    # predict\n",
    "    y_pred = model.predict(x_test_scaled)\n",
    "    y_pred = np.where(y_prob > 0.5, 1, 0)\n",
    "    w_pred = model.get_instance_weights(x_test_scaled)\n",
    "    w_pred = [w.flatten() for w in w_pred]\n",
    "    #\n",
    "    res_df.loc[name, \"PRED_ACC\"] = accuracy_score(y_test, y_pred)\n",
    "    res_df.loc[name, \"KID_RANK\"] = kid_accuracy(key_test, w_pred, y_test, top_k=1)\n",
    "\n",
    "print(\"\\nAll models completed.\")"
   ]
  },
  {
   "cell_type": "code",
   "execution_count": 18,
   "id": "c7da8bcd-a6cd-4177-b02f-5c12b7219884",
   "metadata": {},
   "outputs": [
    {
     "data": {
      "text/html": [
       "<div>\n",
       "<style scoped>\n",
       "    .dataframe tbody tr th:only-of-type {\n",
       "        vertical-align: middle;\n",
       "    }\n",
       "\n",
       "    .dataframe tbody tr th {\n",
       "        vertical-align: top;\n",
       "    }\n",
       "\n",
       "    .dataframe thead th {\n",
       "        text-align: right;\n",
       "    }\n",
       "</style>\n",
       "<table border=\"1\" class=\"dataframe\">\n",
       "  <thead>\n",
       "    <tr style=\"text-align: right;\">\n",
       "      <th></th>\n",
       "      <th>PRED_ACC</th>\n",
       "      <th>KID_RANK</th>\n",
       "    </tr>\n",
       "  </thead>\n",
       "  <tbody>\n",
       "    <tr>\n",
       "      <th>AdditiveAttentionNetworkClassifier</th>\n",
       "      <td>0.96</td>\n",
       "      <td>0.72</td>\n",
       "    </tr>\n",
       "    <tr>\n",
       "      <th>SelfAttentionNetworkClassifier</th>\n",
       "      <td>0.96</td>\n",
       "      <td>0.86</td>\n",
       "    </tr>\n",
       "    <tr>\n",
       "      <th>HopfieldAttentionNetworkClassifier</th>\n",
       "      <td>0.96</td>\n",
       "      <td>0.45</td>\n",
       "    </tr>\n",
       "    <tr>\n",
       "      <th>DynamicPoolingNetworkClassifier</th>\n",
       "      <td>0.96</td>\n",
       "      <td>0.88</td>\n",
       "    </tr>\n",
       "  </tbody>\n",
       "</table>\n",
       "</div>"
      ],
      "text/plain": [
       "                                    PRED_ACC  KID_RANK\n",
       "AdditiveAttentionNetworkClassifier      0.96      0.72\n",
       "SelfAttentionNetworkClassifier          0.96      0.86\n",
       "HopfieldAttentionNetworkClassifier      0.96      0.45\n",
       "DynamicPoolingNetworkClassifier         0.96      0.88"
      ]
     },
     "execution_count": 18,
     "metadata": {},
     "output_type": "execute_result"
    }
   ],
   "source": [
    "res_df.round(2)"
   ]
  },
  {
   "cell_type": "code",
   "execution_count": null,
   "id": "a5ac8c7a-d124-429d-92b0-1ee64f249b21",
   "metadata": {},
   "outputs": [],
   "source": []
  },
  {
   "cell_type": "code",
   "execution_count": null,
   "id": "63837ea9-8efe-4105-9255-127c8d5b29ae",
   "metadata": {},
   "outputs": [],
   "source": []
  }
 ],
 "metadata": {
  "kernelspec": {
   "display_name": "milearn",
   "language": "python",
   "name": "milearn"
  },
  "language_info": {
   "codemirror_mode": {
    "name": "ipython",
    "version": 3
   },
   "file_extension": ".py",
   "mimetype": "text/x-python",
   "name": "python",
   "nbconvert_exporter": "python",
   "pygments_lexer": "ipython3",
   "version": "3.10.18"
  }
 },
 "nbformat": 4,
 "nbformat_minor": 5
}
